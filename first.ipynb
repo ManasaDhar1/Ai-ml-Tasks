{
 "cells": [
  {
   "cell_type": "code",
   "execution_count": 2,
   "id": "0dbb8fa2-0e92-43ee-bb7c-0fee35b7b608",
   "metadata": {},
   "outputs": [
    {
     "name": "stdout",
     "output_type": "stream",
     "text": [
      "L:  [100, 50, 193, 443, 256, 53, 1000]\n",
      "L1:  [100, 50, 256, 1000]\n",
      "L2:  [193, 443, 53]\n"
     ]
    }
   ],
   "source": [
    "00000000000L 0= [100,50,193,443,256,53,1000]2\n",
    "L1 = []\n",
    "L2 = []\n",
    "for num in L:\n",
    "    if num % 2==0:\n",
    "        L1.append(num)\n",
    "    else:\n",
    "        L2.append(num)\n",
    "print(\"L: \",L)\n",
    "print(\"L1: \",L1)\n",
    "print(\"L2: \",L2)\n",
    "        "
   ]
  },
  {
   "cell_type": "code",
   "execution_count": 6,
   "id": "c8e2536e-f229-49bb-8a58-64855832169f",
   "metadata": {},
   "outputs": [
    {
     "name": "stdin",
     "output_type": "stream",
     "text": [
      "Enter numbers separated by spaces:  100 50 193 443 256 53 1000\n"
     ]
    },
    {
     "name": "stdout",
     "output_type": "stream",
     "text": [
      "L:  [100, 50, 193, 443, 256, 53, 1000]\n",
      "L1:  [100, 50, 256, 1000]\n",
      "L2:  [193, 443, 53]\n"
     ]
    }
   ],
   "source": [
    "L = list(map(int, input(\"Enter numbers separated by spaces: \").split()))\n",
    "L1 = []\n",
    "L2 = []\n",
    "for num in L:\n",
    "    if num % 2 == 0:\n",
    "        L1.append(num)\n",
    "    else:\n",
    "        L2.append(num)\n",
    "print(\"L: \", L)\n",
    "print(\"L1: \", L1)\n",
    "print(\"L2: \", L2)\n"
   ]
  },
  {
   "cell_type": "code",
   "execution_count": 11,
   "id": "792c2019-3298-48bb-9b25-e78b6a3bf1a2",
   "metadata": {},
   "outputs": [
    {
     "name": "stdout",
     "output_type": "stream",
     "text": [
      "Strings:  ['A', 'B']\n",
      "Integers:  [100, 205]\n",
      "Booleans:  [True]\n",
      "Complex Numbers:  [(6+8j)]\n",
      "Float Numbers:  [67.5]\n"
     ]
    }
   ],
   "source": [
    "L = [\"A\", 100, \"B\", 205, True, 6+8j,67.5]\n",
    "\n",
    "strings = []\n",
    "integers = []\n",
    "booleans = []\n",
    "complex_numbers = []\n",
    "float_num = []\n",
    "\n",
    "for item in L:\n",
    "    if type(item) == str:\n",
    "        strings.append(item)\n",
    "    elif type(item) == int:\n",
    "        integers.append(item)\n",
    "    elif type(item) == bool:\n",
    "        booleans.append(item)\n",
    "    elif type(item) == complex:\n",
    "        complex_numbers.append(item)\n",
    "    elif type(item) == float:\n",
    "        float_num.append(item)\n",
    "\n",
    "print(\"Strings: \", strings)\n",
    "print(\"Integers: \", integers)\n",
    "print(\"Booleans: \", booleans)\n",
    "print(\"Complex Numbers: \", complex_numbers)\n",
    "print(\"Float Numbers: \", float_num)\n",
    "\n"
   ]
  },
  {
   "cell_type": "code",
   "execution_count": 1,
   "id": "c59edad7-7337-45b3-bd40-7de88a0f7227",
   "metadata": {},
   "outputs": [
    {
     "data": {
      "text/plain": [
       "[1, 'Hello', 3.14, [4, 5]]"
      ]
     },
     "execution_count": 1,
     "metadata": {},
     "output_type": "execute_result"
    }
   ],
   "source": [
    "my_list = [1,\"Hello\",3.14,[4,5]]\n",
    "my_list"
   ]
  },
  {
   "cell_type": "code",
   "execution_count": 3,
   "id": "2ccec46a-771e-4996-b364-a6d56f79ce4a",
   "metadata": {},
   "outputs": [
    {
     "name": "stdout",
     "output_type": "stream",
     "text": [
      "20\n",
      "[20, 30]\n",
      "[20, 30, 40, 50]\n",
      "[10, 20, 30]\n",
      "[10, 20, 30, 40, 50]\n"
     ]
    }
   ],
   "source": [
    "#indexing and slicing of list\n",
    "my_list = [10,20,30,40,50]\n",
    "print(my_list[1])\n",
    "print(my_list[1:3])\n",
    "print(my_list[1:])\n",
    "print(my_list[:3])\n",
    "print(my_list[:])"
   ]
  },
  {
   "cell_type": "code",
   "execution_count": 4,
   "id": "4a5395db-2a61-4afa-b8cc-2d3b6d6a76ad",
   "metadata": {},
   "outputs": [
    {
     "name": "stdout",
     "output_type": "stream",
     "text": [
      "30\n",
      "60\n",
      "90\n",
      "120\n"
     ]
    }
   ],
   "source": [
    "#lits are iterable(loops)\n",
    "my_list = [10,20,30,40]\n",
    "\n",
    "for i in my_list:\n",
    "    print(3 * i)"
   ]
  },
  {
   "cell_type": "code",
   "execution_count": 5,
   "id": "ee8e3179-d6f0-45e0-862e-e64d78a39b3b",
   "metadata": {},
   "outputs": [
    {
     "name": "stdout",
     "output_type": "stream",
     "text": [
      "30\n",
      "60\n",
      "90\n",
      "120\n"
     ]
    }
   ],
   "source": [
    "my_list = [10,20,30,40]\n",
    "for x in range(len(my_list)):\n",
    "    print(3 * my_list[x])"
   ]
  },
  {
   "cell_type": "code",
   "execution_count": 8,
   "id": "560d065e-bf00-4f01-bb1e-b5f8e6a19a91",
   "metadata": {},
   "outputs": [
    {
     "name": "stdout",
     "output_type": "stream",
     "text": [
      "30\n",
      "60\n",
      "90\n",
      "120\n",
      "150\n"
     ]
    }
   ],
   "source": [
    "my_list = [10,20,30,40,50]\n",
    "for x in range(5):\n",
    "    print(3 * my_list[x])"
   ]
  },
  {
   "cell_type": "code",
   "execution_count": 10,
   "id": "04036de0-7b37-4b0c-b012-248409cbef99",
   "metadata": {},
   "outputs": [
    {
     "name": "stdout",
     "output_type": "stream",
     "text": [
      "[1, 2, 3, 3, 2, 2]\n"
     ]
    }
   ],
   "source": [
    "#lists can cotain duplicate values are allowed\n",
    "duplicates_list=[1,2,3,3,2,2]\n",
    "print(duplicates_list)"
   ]
  },
  {
   "cell_type": "code",
   "execution_count": 12,
   "id": "c7d93c8a-6409-4112-94e0-39082638d291",
   "metadata": {},
   "outputs": [
    {
     "data": {
      "text/plain": [
       "[[1, 2], [2, 3]]"
      ]
     },
     "execution_count": 12,
     "metadata": {},
     "output_type": "execute_result"
    }
   ],
   "source": [
    "nested_list = [[1,2],[2,3]]\n",
    "nested_list"
   ]
  },
  {
   "cell_type": "code",
   "execution_count": 11,
   "id": "98bead50-b8da-4591-94d7-cfff275356d9",
   "metadata": {},
   "outputs": [
    {
     "data": {
      "text/plain": [
       "['__add__',\n",
       " '__class__',\n",
       " '__class_getitem__',\n",
       " '__contains__',\n",
       " '__delattr__',\n",
       " '__delitem__',\n",
       " '__dir__',\n",
       " '__doc__',\n",
       " '__eq__',\n",
       " '__format__',\n",
       " '__ge__',\n",
       " '__getattribute__',\n",
       " '__getitem__',\n",
       " '__getstate__',\n",
       " '__gt__',\n",
       " '__hash__',\n",
       " '__iadd__',\n",
       " '__imul__',\n",
       " '__init__',\n",
       " '__init_subclass__',\n",
       " '__iter__',\n",
       " '__le__',\n",
       " '__len__',\n",
       " '__lt__',\n",
       " '__mul__',\n",
       " '__ne__',\n",
       " '__new__',\n",
       " '__reduce__',\n",
       " '__reduce_ex__',\n",
       " '__repr__',\n",
       " '__reversed__',\n",
       " '__rmul__',\n",
       " '__setattr__',\n",
       " '__setitem__',\n",
       " '__sizeof__',\n",
       " '__str__',\n",
       " '__subclasshook__',\n",
       " 'append',\n",
       " 'clear',\n",
       " 'copy',\n",
       " 'count',\n",
       " 'extend',\n",
       " 'index',\n",
       " 'insert',\n",
       " 'pop',\n",
       " 'remove',\n",
       " 'reverse',\n",
       " 'sort']"
      ]
     },
     "execution_count": 11,
     "metadata": {},
     "output_type": "execute_result"
    }
   ],
   "source": [
    "dir(list)"
   ]
  },
  {
   "cell_type": "code",
   "execution_count": 2,
   "id": "fdce00a5-e189-49b5-b29d-2f116ef90964",
   "metadata": {},
   "outputs": [
    {
     "data": {
      "text/plain": [
       "[['apple', 10], ['banana', 5], ['cherry', 7], ['banana', 5]]"
      ]
     },
     "execution_count": 2,
     "metadata": {},
     "output_type": "execute_result"
    }
   ],
   "source": [
    "orders = [['apple',10],['banana',5],['cherry',7],['banana',5]]\n",
    "orders"
   ]
  },
  {
   "cell_type": "code",
   "execution_count": 3,
   "id": "d05c1b26-1533-4ebf-9167-3be600591a58",
   "metadata": {},
   "outputs": [
    {
     "data": {
      "text/plain": [
       "[['apple', 10], ['banana', 5], ['cherry', 7], ['banana', 5], ['date', 12]]"
      ]
     },
     "execution_count": 3,
     "metadata": {},
     "output_type": "execute_result"
    }
   ],
   "source": [
    "#add a new order with append\n",
    "new_order1 = [\"date\",12]\n",
    "orders.append(new_order1)\n",
    "orders"
   ]
  },
  {
   "cell_type": "code",
   "execution_count": 11,
   "id": "4e481f90-2719-467b-8092-ca9ba9423fb3",
   "metadata": {},
   "outputs": [
    {
     "data": {
      "text/plain": [
       "[['apple', 10],\n",
       " ['banana', 5],\n",
       " ['cherry', 7],\n",
       " ['dargon', 10],\n",
       " ['banana', 5],\n",
       " ['date', 12],\n",
       " [['grape', 9], ['apple', 20]],\n",
       " ['grape', 9],\n",
       " ['apple', 20],\n",
       " ['grape', 9],\n",
       " ['apple', 20],\n",
       " ['date', 12],\n",
       " 'date',\n",
       " 12,\n",
       " 'date',\n",
       " 12,\n",
       " ['date', 12]]"
      ]
     },
     "execution_count": 11,
     "metadata": {},
     "output_type": "execute_result"
    }
   ],
   "source": [
    "new_orders = [\"grape\",12]\n",
    "orders.append(new_order1)\n",
    "orders"
   ]
  },
  {
   "cell_type": "code",
   "execution_count": 9,
   "id": "94514e35-4636-423a-94ca-03c59f3589aa",
   "metadata": {
    "scrolled": true
   },
   "outputs": [
    {
     "data": {
      "text/plain": [
       "[['apple', 10],\n",
       " ['banana', 5],\n",
       " ['cherry', 7],\n",
       " ['dargon', 10],\n",
       " ['banana', 5],\n",
       " ['date', 12],\n",
       " [['grape', 9], ['apple', 20]],\n",
       " ['grape', 9],\n",
       " ['apple', 20],\n",
       " ['grape', 9],\n",
       " ['apple', 20],\n",
       " ['date', 12],\n",
       " 'date',\n",
       " 12]"
      ]
     },
     "execution_count": 9,
     "metadata": {},
     "output_type": "execute_result"
    }
   ],
   "source": [
    "new_order2 = [\"dargon\",10]\n",
    "orders.insert(3,new_order2)\n",
    "orders\n"
   ]
  },
  {
   "cell_type": "code",
   "execution_count": 12,
   "id": "b739036a-939f-4fb3-a084-108d12192432",
   "metadata": {},
   "outputs": [
    {
     "data": {
      "text/plain": [
       "['banana', 5]"
      ]
     },
     "execution_count": 12,
     "metadata": {},
     "output_type": "execute_result"
    }
   ],
   "source": [
    "dupilcate_order = [\"banana\",5]\n",
    "orders.pop(4)"
   ]
  },
  {
   "cell_type": "code",
   "execution_count": 4,
   "id": "b611ec8c-78af-48a3-9801-1d7d9d1ba947",
   "metadata": {},
   "outputs": [
    {
     "data": {
      "text/plain": [
       "[['apple', 10], ['banana', 5], ['dragon', 10], ['apple', 20], ['cherry', 7]]"
      ]
     },
     "execution_count": 4,
     "metadata": {},
     "output_type": "execute_result"
    }
   ],
   "source": [
    "orders  = [['apple',10],['banana',5],['dragon',10],['apple',20],['cherry',7]]\n",
    "orders"
   ]
  },
  {
   "cell_type": "code",
   "execution_count": 6,
   "id": "00a1344e-caba-4682-b780-ad061c5f94f9",
   "metadata": {},
   "outputs": [
    {
     "name": "stdout",
     "output_type": "stream",
     "text": [
      "[['apple', 10], ['banana', 10], ['dragon', 10], ['apple', 20], ['cherry', 7]]\n"
     ]
    }
   ],
   "source": [
    "for each in orders:\n",
    "    if each[0] == 'banana':\n",
    "        each[1] = 10\n",
    "print(orders)"
   ]
  },
  {
   "cell_type": "code",
   "execution_count": 7,
   "id": "bbaa88a7-ce3b-404a-b0a7-ea97f2486264",
   "metadata": {},
   "outputs": [
    {
     "data": {
      "text/plain": [
       "[['apple', 10], ['banana', 10], ['dragon', 10], ['apple', 20], ['cherry', 7]]"
      ]
     },
     "execution_count": 7,
     "metadata": {},
     "output_type": "execute_result"
    }
   ],
   "source": [
    "orders"
   ]
  },
  {
   "cell_type": "code",
   "execution_count": 10,
   "id": "aba057aa-68ce-4a7a-9a48-a91fd90c8d7d",
   "metadata": {},
   "outputs": [
    {
     "name": "stdout",
     "output_type": "stream",
     "text": [
      "[10, 20]\n",
      "30\n"
     ]
    }
   ],
   "source": [
    "apple_orders = []\n",
    "for each in orders:\n",
    "    if each[0] == 'apple':\n",
    "        apple_orders.append(each[1])\n",
    "print(apple_orders)\n",
    "print(sum(apple_orders))\n",
    "    "
   ]
  },
  {
   "cell_type": "code",
   "execution_count": 11,
   "id": "32bdb261-31d6-47e5-bc9e-b453ce69f8a9",
   "metadata": {},
   "outputs": [
    {
     "data": {
      "text/plain": [
       "[['apple', 10],\n",
       " ['banana', 10],\n",
       " ['dragon', 10],\n",
       " ['apple', 20],\n",
       " ['cherry', 7],\n",
       " ['date', 12]]"
      ]
     },
     "execution_count": 11,
     "metadata": {},
     "output_type": "execute_result"
    }
   ],
   "source": [
    " new_order1 = ['date',12]\n",
    "orders.append(new_order1)\n",
    "orders"
   ]
  },
  {
   "cell_type": "code",
   "execution_count": 12,
   "id": "cdaa98ea-83d0-44c8-86a2-6cc1bae3666a",
   "metadata": {},
   "outputs": [
    {
     "data": {
      "text/plain": [
       "[['apple', 10],\n",
       " ['banana', 10],\n",
       " ['dragon', 10],\n",
       " ['apple', 20],\n",
       " ['cherry', 7],\n",
       " ['date', 12],\n",
       " [['grape', 6], ['orange', 8]]]"
      ]
     },
     "execution_count": 12,
     "metadata": {},
     "output_type": "execute_result"
    }
   ],
   "source": [
    "new_orders = [['grape',6],['orange',8]]\n",
    "orders.append(new_orders)\n",
    "orders"
   ]
  },
  {
   "cell_type": "code",
   "execution_count": 13,
   "id": "d57c5139-68e6-4253-8667-c9430bdf9a02",
   "metadata": {},
   "outputs": [
    {
     "data": {
      "text/plain": [
       "[['apple', 10],\n",
       " ['banana', 10],\n",
       " ['dragon', 10],\n",
       " ['apple', 20],\n",
       " ['cherry', 7],\n",
       " ['date', 12],\n",
       " [['grape', 6], ['orange', 8]],\n",
       " ['grape', 6],\n",
       " ['orange', 8]]"
      ]
     },
     "execution_count": 13,
     "metadata": {},
     "output_type": "execute_result"
    }
   ],
   "source": [
    "new_orders = [['grape',6],['orange',8]]\n",
    "orders.extend(new_orders)\n",
    "orders"
   ]
  },
  {
   "cell_type": "code",
   "execution_count": 15,
   "id": "00313e7a-71d4-4a17-8af5-bfa7445f93b0",
   "metadata": {},
   "outputs": [
    {
     "data": {
      "text/plain": [
       "[['apple', 10],\n",
       " ['banana', 10],\n",
       " ['dragon', 10],\n",
       " ['kiwi', 5],\n",
       " ['apple', 20],\n",
       " ['cherry', 7],\n",
       " ['date', 12],\n",
       " [['grape', 6], ['orange', 8]],\n",
       " ['grape', 6],\n",
       " ['orange', 8]]"
      ]
     },
     "execution_count": 15,
     "metadata": {},
     "output_type": "execute_result"
    }
   ],
   "source": [
    "new_order2 = ['kiwi',5]\n",
    "orders.insert(3,new_order2)\n",
    "orders"
   ]
  },
  {
   "cell_type": "code",
   "execution_count": 16,
   "id": "c946c4b8-0a6c-4ce1-b01b-a3f5103facc6",
   "metadata": {},
   "outputs": [
    {
     "data": {
      "text/plain": [
       "(3, 5, 9, 10)"
      ]
     },
     "execution_count": 16,
     "metadata": {},
     "output_type": "execute_result"
    }
   ],
   "source": [
    "Tup1 = (3,5,9,10)\n",
    "Tup1"
   ]
  },
  {
   "cell_type": "code",
   "execution_count": 17,
   "id": "1059eddb-1bf1-46f8-bd2a-b9a173b13910",
   "metadata": {},
   "outputs": [
    {
     "data": {
      "text/plain": [
       "(10, 20, 30, 'Hi')"
      ]
     },
     "execution_count": 17,
     "metadata": {},
     "output_type": "execute_result"
    }
   ],
   "source": [
    "Tup2 = 10,20,30,'Hi'\n",
    "Tup2"
   ]
  },
  {
   "cell_type": "code",
   "execution_count": 19,
   "id": "d0026068-d197-4034-b14e-bd8a08420c05",
   "metadata": {},
   "outputs": [
    {
     "data": {
      "text/plain": [
       "(1, 2, 5, 7)"
      ]
     },
     "execution_count": 19,
     "metadata": {},
     "output_type": "execute_result"
    }
   ],
   "source": [
    "Tup3 = tuple([1,2,5,7])\n",
    "Tup3"
   ]
  },
  {
   "cell_type": "code",
   "execution_count": 20,
   "id": "db3d3604-c0cd-4f1a-99bc-5199f49ad73d",
   "metadata": {},
   "outputs": [
    {
     "name": "stdout",
     "output_type": "stream",
     "text": [
      "5\n"
     ]
    }
   ],
   "source": [
    "print(Tup3[2])"
   ]
  },
  {
   "cell_type": "code",
   "execution_count": 22,
   "id": "7181e747-0f4f-432c-ac3c-d1d7719d8221",
   "metadata": {},
   "outputs": [
    {
     "data": {
      "text/plain": [
       "([3, 4, 5], (1, 2, 3), 'Hello', 105)"
      ]
     },
     "execution_count": 22,
     "metadata": {},
     "output_type": "execute_result"
    }
   ],
   "source": [
    "Tup4 = ([3,4,5],(1,2,3),\"Hello\",105)\n",
    "Tup4"
   ]
  },
  {
   "cell_type": "code",
   "execution_count": 23,
   "id": "1b1ae938-0bcf-4d2c-8f5c-aa59895b2852",
   "metadata": {},
   "outputs": [
    {
     "data": {
      "text/plain": [
       "([1, 2, 3], (4, 8, 9), 'Hello', 9.8)"
      ]
     },
     "execution_count": 23,
     "metadata": {},
     "output_type": "execute_result"
    }
   ],
   "source": [
    "tup4 = ([1,2,3],(4,8,9),\"Hello\",9.8)\n",
    "tup4"
   ]
  },
  {
   "cell_type": "code",
   "execution_count": 24,
   "id": "1ef43e29-a0e9-4386-80b1-fc3c40f64d6d",
   "metadata": {},
   "outputs": [
    {
     "data": {
      "text/plain": [
       "([1, 2, 10], (4, 8, 9), 'Hello', 9.8)"
      ]
     },
     "execution_count": 24,
     "metadata": {},
     "output_type": "execute_result"
    }
   ],
   "source": [
    "tup4[0][2] = 10;\n",
    "tup4"
   ]
  },
  {
   "cell_type": "code",
   "execution_count": 25,
   "id": "be7084f4-7a1d-4e6b-a20d-56e509cf398f",
   "metadata": {},
   "outputs": [
    {
     "ename": "TypeError",
     "evalue": "'tuple' object does not support item assignment",
     "output_type": "error",
     "traceback": [
      "\u001b[1;31m---------------------------------------------------------------------------\u001b[0m",
      "\u001b[1;31mTypeError\u001b[0m                                 Traceback (most recent call last)",
      "Cell \u001b[1;32mIn[25], line 1\u001b[0m\n\u001b[1;32m----> 1\u001b[0m tup4[\u001b[38;5;241m1\u001b[39m][\u001b[38;5;241m1\u001b[39m] \u001b[38;5;241m=\u001b[39m \u001b[38;5;241m12\u001b[39m;\n\u001b[0;32m      2\u001b[0m tup4\n",
      "\u001b[1;31mTypeError\u001b[0m: 'tuple' object does not support item assignment"
     ]
    }
   ],
   "source": [
    "tup4[1][1] = 12;#tuples are immutable(we cannot change)but inside tuple if there is a list we can change it\n",
    "tup4"
   ]
  },
  {
   "cell_type": "code",
   "execution_count": 26,
   "id": "28195d78-410f-45fb-876e-378778d11247",
   "metadata": {},
   "outputs": [
    {
     "data": {
      "text/plain": [
       "([1, 2, 10], (4, 8, 9), 'Hello', 9.8)"
      ]
     },
     "execution_count": 26,
     "metadata": {},
     "output_type": "execute_result"
    }
   ],
   "source": [
    "tup4.index(\"Hello\")\n",
    "tup4"
   ]
  },
  {
   "cell_type": "code",
   "execution_count": 27,
   "id": "92075eea-5ace-48d7-a033-fcf24e8ea777",
   "metadata": {},
   "outputs": [
    {
     "data": {
      "text/plain": [
       "4"
      ]
     },
     "execution_count": 27,
     "metadata": {},
     "output_type": "execute_result"
    }
   ],
   "source": [
    "tup5 = (10,20,1,10,10,30,10)\n",
    "tup5.count(10)\n"
   ]
  },
  {
   "cell_type": "code",
   "execution_count": null,
   "id": "64d38070-7fdd-44e6-b3bd-5a8f749ec2d0",
   "metadata": {},
   "outputs": [],
   "source": []
  }
 ],
 "metadata": {
  "kernelspec": {
   "display_name": "Python 3 (ipykernel)",
   "language": "python",
   "name": "python3"
  },
  "language_info": {
   "codemirror_mode": {
    "name": "ipython",
    "version": 3
   },
   "file_extension": ".py",
   "mimetype": "text/x-python",
   "name": "python",
   "nbconvert_exporter": "python",
   "pygments_lexer": "ipython3",
   "version": "3.12.7"
  }
 },
 "nbformat": 4,
 "nbformat_minor": 5
}
