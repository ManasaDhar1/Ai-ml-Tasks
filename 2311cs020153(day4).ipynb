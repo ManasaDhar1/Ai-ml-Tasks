{
 "cells": [
  {
   "cell_type": "code",
   "execution_count": 1,
   "id": "2f910a92-bca5-4bac-a5b2-511b73ea39c2",
   "metadata": {},
   "outputs": [
    {
     "ename": "SyntaxError",
     "evalue": "unterminated f-string literal (detected at line 7) (4230179676.py, line 7)",
     "output_type": "error",
     "traceback": [
      "\u001b[1;36m  Cell \u001b[1;32mIn[1], line 7\u001b[1;36m\u001b[0m\n\u001b[1;33m    print(f\"the sum of even numbers from 1 to {n} is:{even_sum})\u001b[0m\n\u001b[1;37m          ^\u001b[0m\n\u001b[1;31mSyntaxError\u001b[0m\u001b[1;31m:\u001b[0m unterminated f-string literal (detected at line 7)\n"
     ]
    }
   ],
   "source": [
    "#Write a Python program to calculate the sum of all even numbers between 1 and a given positive integer n\n",
    "n = int(input(\"Enter a positive integer: \"))\n",
    "even_sum=0\n",
    "for i in range(1,n+1):\n",
    "    if i%2==0:\n",
    "        even_sum+=i\n",
    "print(f\"the sum of even numbers from 1 to {n} is:{even_sum})"
   ]
  },
  {
   "cell_type": "code",
   "execution_count": null,
   "id": "bffc1f5a-35d6-48f4-8f60-c4318efe79a7",
   "metadata": {},
   "outputs": [],
   "source": []
  }
 ],
 "metadata": {
  "kernelspec": {
   "display_name": "Python 3 (ipykernel)",
   "language": "python",
   "name": "python3"
  },
  "language_info": {
   "codemirror_mode": {
    "name": "ipython",
    "version": 3
   },
   "file_extension": ".py",
   "mimetype": "text/x-python",
   "name": "python",
   "nbconvert_exporter": "python",
   "pygments_lexer": "ipython3",
   "version": "3.12.7"
  }
 },
 "nbformat": 4,
 "nbformat_minor": 5
}
