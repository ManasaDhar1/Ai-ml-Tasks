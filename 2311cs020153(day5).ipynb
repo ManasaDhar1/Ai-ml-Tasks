{
 "cells": [
  {
   "cell_type": "code",
   "execution_count": 7,
   "id": "1bd2a64c-9294-46d9-89e3-4e56c3cbabb6",
   "metadata": {},
   "outputs": [
    {
     "name": "stdin",
     "output_type": "stream",
     "text": [
      "Enter a positive integer:  10\n"
     ]
    },
    {
     "name": "stdout",
     "output_type": "stream",
     "text": [
      "Numbers from 1 to n:\n",
      "1\n",
      "2\n",
      "3\n",
      "4\n",
      "5\n",
      "6\n",
      "7\n",
      "8\n",
      "9\n",
      "10\n",
      "The sum of all numbers from 1 to 10 is: 55\n"
     ]
    }
   ],
   "source": [
    "##### 1)Write a Python program that performs the following tasks:\n",
    "\n",
    "#1. Ask the user to enter a positive integer n.\n",
    "#2. Use a for loop to print all numbers from 1 to n on separate lines.\n",
    "#3. Use a while loop to calculate the sum of all numbers from 1 to n and print the result.\n",
    "# Ask the user to enter a positive integer n\n",
    "n = int(input(\"Enter a positive integer: \"))\n",
    "if n <= 0:\n",
    "    print(\"Please enter a positive integer.\")\n",
    "else:\n",
    "    print(\"Numbers from 1 to n:\")\n",
    "    for i in range(1, n + 1):\n",
    "        print(i)\n",
    "    sum_numbers = 0\n",
    "    current = 1\n",
    "    while current <= n:\n",
    "        sum_numbers += current\n",
    "        current += 1\n",
    "\n",
    "    print(\"The sum of all numbers from 1 to\", n, \"is:\", sum_numbers)\n",
    "\n",
    "        \n"
   ]
  },
  {
   "cell_type": "code",
   "execution_count": 8,
   "id": "bb7fa51a-ffd5-433e-b2ac-c0722b64b5c6",
   "metadata": {},
   "outputs": [
    {
     "name": "stdin",
     "output_type": "stream",
     "text": [
      "Enter a positive integer:  56\n"
     ]
    },
    {
     "name": "stdout",
     "output_type": "stream",
     "text": [
      "The square of 56 is 3136.\n"
     ]
    }
   ],
   "source": [
    "#2)Write a Python program that includes a user-defined function to perform the following tasks:\n",
    "\n",
    "#1. Define a function named calculate_square that takes a single argument n and returns the square of n.\n",
    "#2. In the main program, ask the user to input a positive integer.\n",
    "#3. Call the calculate_square function with the user-provided number and display the result.\n",
    "# Define the function calculate_square\n",
    "def calculate_square(n):\n",
    "    return n ** 2\n",
    "number = int(input(\"Enter a positive integer: \"))\n",
    "\n",
    "if number <= 0:\n",
    "    print(\"Please enter a positive integer.\")\n",
    "else:\n",
    "    square = calculate_square(number)\n",
    "    print(f\"The square of {number} is {square}.\")\n"
   ]
  },
  {
   "cell_type": "code",
   "execution_count": null,
   "id": "58d33ab9-5e7d-4f56-9251-a4d85163c3be",
   "metadata": {},
   "outputs": [],
   "source": []
  }
 ],
 "metadata": {
  "kernelspec": {
   "display_name": "Python 3 (ipykernel)",
   "language": "python",
   "name": "python3"
  },
  "language_info": {
   "codemirror_mode": {
    "name": "ipython",
    "version": 3
   },
   "file_extension": ".py",
   "mimetype": "text/x-python",
   "name": "python",
   "nbconvert_exporter": "python",
   "pygments_lexer": "ipython3",
   "version": "3.12.7"
  }
 },
 "nbformat": 4,
 "nbformat_minor": 5
}
