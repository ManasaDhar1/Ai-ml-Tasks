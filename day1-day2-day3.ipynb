{
 "cells": [
  {
   "cell_type": "code",
   "execution_count": 1,
   "id": "3ef10161",
   "metadata": {},
   "outputs": [
    {
     "name": "stdout",
     "output_type": "stream",
     "text": [
      "<class 'str'>\n",
      "<class 'int'>\n",
      "<class 'float'>\n",
      "<class 'bool'>\n"
     ]
    }
   ],
   "source": [
    "#Write a program in Jupyter Notebook to declare variables of different data types (integer, float, string, and boolean). Print each variable and its type.\n",
    "a = \"manasa\"\n",
    "b = 100\n",
    "c = 89.5\n",
    "d = True\n",
    "print(type(a))\n",
    "print(type(b))\n",
    "print(type(c))\n",
    "print(type(d))"
   ]
  },
  {
   "cell_type": "code",
   "execution_count": 3,
   "id": "af3d785b",
   "metadata": {},
   "outputs": [
    {
     "name": "stdout",
     "output_type": "stream",
     "text": [
      "True\n",
      "200\n",
      "100\n",
      "456\n",
      "blue\n",
      "red\n"
     ]
    }
   ],
   "source": [
    "#Create a List, tuple and Dictionary with 5 elements in it and how to access few elements based on the index. Try  with different examples \n",
    "List = [100,200,\"A\",True,37.8]\n",
    "tuple = (100,20,450,678,456)\n",
    "dict = {\"color1\":\"blue\",\"color2\":\"green\",\"color3\":\"yellow\",\"color4\":\"red\",\"color5\":\"pink\"}\n",
    "print(List[3])\n",
    "print(List[1])\n",
    "print(tuple[0])\n",
    "print(tuple[4])\n",
    "print(dict['color1'])\n",
    "print(dict['color4'])"
   ]
  },
  {
   "cell_type": "code",
   "execution_count": 4,
   "id": "97e1ff08",
   "metadata": {},
   "outputs": [
    {
     "name": "stdout",
     "output_type": "stream",
     "text": [
      "Enter student marks in subject1: 56\n",
      "Enter student marks in subject2: 67\n",
      "Enter student marks in subject3: 45\n",
      "Grade: Fail\n"
     ]
    }
   ],
   "source": [
    "#Write a Python program that takes a student's marks in three subjects as input.\n",
    "#If the average is greater than or equal to 90, print \"Grade: A\".\n",
    "#If the average is between 80 and 89, print \"Grade: B\".\n",
    "#If the average is between 70 and 79, print \"Grade: C\".\n",
    "#Otherwise, print \"Grade: Fail\".\n",
    "a = int(input(\"Enter student marks in subject1: \"))\n",
    "b = int(input(\"Enter student marks in subject2: \"))\n",
    "c = int(input(\"Enter student marks in subject3: \"))\n",
    "average = (a + b+ c) / 3\n",
    "\n",
    "if average >= 90:\n",
    "    print(\"Grade: A\")\n",
    "elif 80 <= average < 90:\n",
    "    print(\"Grade: B\")\n",
    "elif 70 <= average < 80:\n",
    "    print(\"Grade: C\")\n",
    "else:\n",
    "    print(\"Grade: Fail\")\n",
    "\n",
    "\n",
    "\n"
   ]
  },
  {
   "cell_type": "code",
   "execution_count": 5,
   "id": "a6792d81",
   "metadata": {},
   "outputs": [
    {
     "name": "stdout",
     "output_type": "stream",
     "text": [
      "Enter student marks in subject1: 89\n",
      "Enter student marks in subject2: 90\n",
      "Enter student marks in subject3: 93\n",
      "Grade: A\n"
     ]
    }
   ],
   "source": [
    "#Write a Python program that takes a student's marks in three subjects as input.\n",
    "#If the average is greater than or equal to 90, print \"Grade: A\".\n",
    "#If the average is between 80 and 89, print \"Grade: B\".\n",
    "#If the average is between 70 and 79, print \"Grade: C\".\n",
    "#Otherwise, print \"Grade: Fail\".\n",
    "a = int(input(\"Enter student marks in subject1: \"))\n",
    "b = int(input(\"Enter student marks in subject2: \"))\n",
    "c = int(input(\"Enter student marks in subject3: \"))\n",
    "average = (a + b+ c) / 3\n",
    "\n",
    "if average >= 90:\n",
    "    print(\"Grade: A\")\n",
    "elif 80 <= average < 90:\n",
    "    print(\"Grade: B\")\n",
    "elif 70 <= average < 80:\n",
    "    print(\"Grade: C\")\n",
    "else:\n",
    "    print(\"Grade: Fail\")"
   ]
  },
  {
   "cell_type": "code",
   "execution_count": null,
   "id": "c5b9e6f1",
   "metadata": {},
   "outputs": [],
   "source": []
  }
 ],
 "metadata": {
  "kernelspec": {
   "display_name": "Python 3 (ipykernel)",
   "language": "python",
   "name": "python3"
  },
  "language_info": {
   "codemirror_mode": {
    "name": "ipython",
    "version": 3
   },
   "file_extension": ".py",
   "mimetype": "text/x-python",
   "name": "python",
   "nbconvert_exporter": "python",
   "pygments_lexer": "ipython3",
   "version": "3.11.5"
  }
 },
 "nbformat": 4,
 "nbformat_minor": 5
}
